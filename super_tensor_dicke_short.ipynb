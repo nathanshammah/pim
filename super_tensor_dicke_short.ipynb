{
 "cells": [
  {
   "cell_type": "code",
   "execution_count": 22,
   "metadata": {
    "collapsed": true
   },
   "outputs": [],
   "source": [
    "from dicke_h import *\n",
    "from qutip import *\n",
    "from matplotlib import pyplot as plt"
   ]
  },
  {
   "cell_type": "code",
   "execution_count": 25,
   "metadata": {
    "collapsed": true
   },
   "outputs": [],
   "source": [
    "# define system size and algebra\n",
    "ntls = 2\n",
    "N = ntls\n",
    "[jx, jy, jz, jp, jm] = j_algebra(N)"
   ]
  },
  {
   "cell_type": "code",
   "execution_count": 26,
   "metadata": {
    "collapsed": true
   },
   "outputs": [],
   "source": [
    "# define spin dynamics\n",
    "gCE = 1\n",
    "gP = 0.0\n",
    "gD = 0.0\n",
    "w0 = 1\n",
    "wi = 0.1\n",
    "h = w0 * jz + wi * jx\n",
    "dicke = Dicke(hamiltonian = h, N = N, emission = gCE, pumping = gP, dephasing = gD)\n",
    "psolv = Pisolve(dicke)"
   ]
  },
  {
   "cell_type": "code",
   "execution_count": 27,
   "metadata": {
    "collapsed": true
   },
   "outputs": [],
   "source": [
    "#build spin liouvillian\n",
    "#lind = psolv.lindblad_sup()\n",
    "liouv = psolv.liouvillian()"
   ]
  },
  {
   "cell_type": "code",
   "execution_count": 28,
   "metadata": {
    "collapsed": true
   },
   "outputs": [],
   "source": [
    "#set initial conditions for spins\n",
    "t = np.linspace(0, 1, 100)\n",
    "rho0 = dicke.dicke(N/2, N/2)"
   ]
  },
  {
   "cell_type": "code",
   "execution_count": 29,
   "metadata": {
    "collapsed": true
   },
   "outputs": [],
   "source": [
    "#solve using qutip\n",
    "result = mesolve(h, rho0, t, [liouv], e_ops = [jz, jp*jm])\n",
    "rhot = result.states\n",
    "jz_t = result.expect[0]\n",
    "jpjm_t = result.expect[1]"
   ]
  },
  {
   "cell_type": "code",
   "execution_count": 30,
   "metadata": {},
   "outputs": [
    {
     "data": {
      "image/png": "[encoded data removed]",
      "text/plain": [
       "<matplotlib.figure.Figure at 0x11713a828>"
      ]
     },
     "metadata": {},
     "output_type": "display_data"
    },
    {
     "data": {
      "image/png": "[encoded data removed]",
      "text/plain": [
       "<matplotlib.figure.Figure at 0x1171330b8>"
      ]
     },
     "metadata": {},
     "output_type": "display_data"
    }
   ],
   "source": [
    "fig1 = plt.figure()\n",
    "plt.plot(t, jz_t)\n",
    "#plt.ylim([-1,1])\n",
    "plt.title('jz(t), total inversion')\n",
    "plt.xlabel('t')\n",
    "plt.show()\n",
    "plt.close()\n",
    "\n",
    "fig2 = plt.figure()\n",
    "plt.plot(t, jpjm_t)\n",
    "#plt.ylim([-1,1])\n",
    "plt.title('jpjm(t), light emission')\n",
    "plt.xlabel('t')\n",
    "plt.show()\n",
    "plt.close()"
   ]
  },
  {
   "cell_type": "code",
   "execution_count": 87,
   "metadata": {
    "collapsed": true
   },
   "outputs": [],
   "source": [
    "#build photonic liouvillian\n",
    "nphot = 2\n",
    "wc = 0.1\n",
    "kappa = 0.1\n",
    "a = destroy(nphot)\n",
    "h_phot = wc * a.dag() * a\n",
    "c_ops_phot = [np.sqrt(kappa) * a]\n",
    "liouv_phot = liouvillian(h_phot, c_ops_phot)\n",
    "nds = num_dicke_states(ntls)"
   ]
  },
  {
   "cell_type": "code",
   "execution_count": 107,
   "metadata": {},
   "outputs": [
    {
     "data": {
      "text/latex": [
       "Quantum object: dims = [[[2, 4], [2, 4]], [[2, 4], [2, 4]]], shape = (64, 64), type = super, isherm = False\\begin{equation*}\\left(\\begin{array}{*{11}c}-2.0 & -0.071j & 0.0 & 0.0 & 0.0 & \\cdots & 0.0 & 0.0 & 0.0 & 0.0 & 0.0\\\\-0.071j & (-2.0+1.0j) & -0.071j & 0.0 & 0.0 & \\cdots & 0.0 & 0.0 & 0.0 & 0.0 & 0.0\\\\0.0 & -0.071j & (-1.0+2.0j) & 0.0 & 0.0 & \\cdots & 0.0 & 0.0 & 0.0 & 0.0 & 0.0\\\\0.0 & 0.0 & 0.0 & 1.0j & 0.0 & \\cdots & 0.0 & 0.0 & 0.0 & 0.0 & 0.0\\\\0.0 & 0.0 & 0.0 & 0.0 & (-2.050-0.100j) & \\cdots & 0.0 & 0.0 & 0.0 & 0.0 & 0.0\\\\\\vdots & \\vdots & \\vdots & \\vdots & \\vdots & \\ddots & \\vdots & \\vdots & \\vdots & \\vdots & \\vdots\\\\0.0 & 0.0 & 0.0 & 0.0 & 0.0 & \\cdots & (-0.050+0.100j) & 0.0 & 0.0 & 0.0 & 0.0\\\\0.0 & 0.0 & 0.0 & 0.0 & 0.0 & \\cdots & 0.0 & (-0.100-1.0j) & -0.071j & 0.0 & 0.0\\\\0.0 & 0.0 & 0.0 & 0.0 & 0.0 & \\cdots & 0.0 & -0.071j & -0.100 & -0.071j & 0.0\\\\0.0 & 0.0 & 0.0 & 0.0 & 0.0 & \\cdots & 0.0 & 0.0 & -0.071j & (-0.100+1.0j) & 0.0\\\\0.0 & 0.0 & 0.0 & 0.0 & 0.0 & \\cdots & 0.0 & 0.0 & 0.0 & 0.0 & -0.100\\\\\\end{array}\\right)\\end{equation*}"
      ],
      "text/plain": [
       "Quantum object: dims = [[[2, 4], [2, 4]], [[2, 4], [2, 4]]], shape = (64, 64), type = super, isherm = False\n",
       "Qobj data =\n",
       "[[-2.0+0.j          0.0-0.07071068j  0.0+0.j         ...,  0.0+0.j          0.0+0.j\n",
       "   0.0+0.j        ]\n",
       " [ 0.0-0.07071068j -2.0+1.j          0.0-0.07071068j ...,  0.0+0.j          0.0+0.j\n",
       "   0.0+0.j        ]\n",
       " [ 0.0+0.j          0.0-0.07071068j -1.0+2.j         ...,  0.0+0.j          0.0+0.j\n",
       "   0.0+0.j        ]\n",
       " ..., \n",
       " [ 0.0+0.j          0.0+0.j          0.0+0.j         ..., -0.1+0.j\n",
       "   0.0-0.07071068j  0.0+0.j        ]\n",
       " [ 0.0+0.j          0.0+0.j          0.0+0.j         ...,  0.0-0.07071068j\n",
       "  -0.1+1.j          0.0+0.j        ]\n",
       " [ 0.0+0.j          0.0+0.j          0.0+0.j         ...,  0.0+0.j          0.0+0.j\n",
       "  -0.1+0.j        ]]"
      ]
     },
     "execution_count": 107,
     "metadata": {},
     "output_type": "execute_result"
    }
   ],
   "source": [
    "liouv_tot = super_tensor(liouv_phot, to_super(qeye(nds))) + super_tensor(to_super(qeye(nphot)), liouv)\n",
    "liouv_tot"
   ]
  },
  {
   "cell_type": "code",
   "execution_count": 108,
   "metadata": {
    "collapsed": true
   },
   "outputs": [],
   "source": [
    "#strong coupling light-matter interaction\n",
    "h_int = tensor(a + a.dag(), jx) "
   ]
  },
  {
   "cell_type": "code",
   "execution_count": 109,
   "metadata": {},
   "outputs": [
    {
     "data": {
      "text/latex": [
       "Quantum object: dims = [[2, 4], [2, 4]], shape = (8, 8), type = oper, isherm = True\\begin{equation*}\\left(\\begin{array}{*{11}c}0.0 & 0.0 & 0.0 & 0.0 & 0.0 & 0.707 & 0.0 & 0.0\\\\0.0 & 0.0 & 0.0 & 0.0 & 0.707 & 0.0 & 0.707 & 0.0\\\\0.0 & 0.0 & 0.0 & 0.0 & 0.0 & 0.707 & 0.0 & 0.0\\\\0.0 & 0.0 & 0.0 & 0.0 & 0.0 & 0.0 & 0.0 & 0.0\\\\0.0 & 0.707 & 0.0 & 0.0 & 0.0 & 0.0 & 0.0 & 0.0\\\\0.707 & 0.0 & 0.707 & 0.0 & 0.0 & 0.0 & 0.0 & 0.0\\\\0.0 & 0.707 & 0.0 & 0.0 & 0.0 & 0.0 & 0.0 & 0.0\\\\0.0 & 0.0 & 0.0 & 0.0 & 0.0 & 0.0 & 0.0 & 0.0\\\\\\end{array}\\right)\\end{equation*}"
      ],
      "text/plain": [
       "Quantum object: dims = [[2, 4], [2, 4]], shape = (8, 8), type = oper, isherm = True\n",
       "Qobj data =\n",
       "[[ 0.          0.          0.          0.          0.          0.70710678\n",
       "   0.          0.        ]\n",
       " [ 0.          0.          0.          0.          0.70710678  0.\n",
       "   0.70710678  0.        ]\n",
       " [ 0.          0.          0.          0.          0.          0.70710678\n",
       "   0.          0.        ]\n",
       " [ 0.          0.          0.          0.          0.          0.          0.\n",
       "   0.        ]\n",
       " [ 0.          0.70710678  0.          0.          0.          0.          0.\n",
       "   0.        ]\n",
       " [ 0.70710678  0.          0.70710678  0.          0.          0.          0.\n",
       "   0.        ]\n",
       " [ 0.          0.70710678  0.          0.          0.          0.          0.\n",
       "   0.        ]\n",
       " [ 0.          0.          0.          0.          0.          0.          0.\n",
       "   0.        ]]"
      ]
     },
     "execution_count": 109,
     "metadata": {},
     "output_type": "execute_result"
    }
   ],
   "source": [
    "h_int"
   ]
  },
  {
   "cell_type": "code",
   "execution_count": 110,
   "metadata": {
    "collapsed": true
   },
   "outputs": [],
   "source": [
    "liouv_h_int =  - 1j* spre(h_int) + 1j* spost(h_int)\n",
    "liouv_h_int\n",
    "liouv_tot_int = liouv_tot + liouv_h_int"
   ]
  },
  {
   "cell_type": "code",
   "execution_count": 115,
   "metadata": {
    "collapsed": true
   },
   "outputs": [],
   "source": []
  },
  {
   "cell_type": "code",
   "execution_count": 117,
   "metadata": {
    "collapsed": true
   },
   "outputs": [],
   "source": [
    "#solve using qutip\n",
    "options = Options()#nsteps = 10000, atol = 1e-6)\n",
    "jz_tot = tensor(qeye(nphot), jz)\n",
    "jpjm_tot = tensor(qeye(nphot), jp*jm)\n",
    "adag_a_tot = tensor(a*a.dag(), qeye(nds))\n",
    "jpjm_tot = tensor(qeye(nphot), jp*jm)\n",
    "rho0_phot = ket2dm(basis(nphot))\n",
    "rho0_tot = tensor(rho0_phot, rho0)\n",
    "\n",
    "result = mesolve(liouv_tot_int, rho0_tot, t, [], e_ops = [jz_tot, jpjm_tot, adag_a_tot], options=options)\n",
    "rhot_tot = result.states\n",
    "jzt_tot = result.expect[0]\n",
    "jpjmt_tot = result.expect[1]\n",
    "adagat_tot = result.expect[2]"
   ]
  },
  {
   "cell_type": "code",
   "execution_count": null,
   "metadata": {
    "collapsed": true
   },
   "outputs": [],
   "source": [
    "fig1 = plt.figure()\n",
    "plt.plot(t, jzt_tot)\n",
    "#plt.ylim([-1,1])\n",
    "plt.title('jz(t), total inversion')\n",
    "plt.xlabel('t')\n",
    "plt.show()\n",
    "plt.close()\n",
    "\n",
    "fig2 = plt.figure()\n",
    "plt.plot(t, jpjmt_tot)\n",
    "#plt.ylim([-1,1])\n",
    "plt.title('jpjm(t), light emission')\n",
    "plt.xlabel('t')\n",
    "plt.show()\n",
    "plt.close()"
   ]
  },
  {
   "cell_type": "code",
   "execution_count": null,
   "metadata": {
    "collapsed": true
   },
   "outputs": [],
   "source": []
  }
 ],
 "metadata": {
  "kernelspec": {
   "display_name": "Python 3",
   "language": "python",
   "name": "python3"
  },
  "language_info": {
   "codemirror_mode": {
    "name": "ipython",
    "version": 3
   },
   "file_extension": ".py",
   "mimetype": "text/x-python",
   "name": "python",
   "nbconvert_exporter": "python",
   "pygments_lexer": "ipython3",
   "version": "3.6.1"
  }
 },
 "nbformat": 4,
 "nbformat_minor": 2
}
