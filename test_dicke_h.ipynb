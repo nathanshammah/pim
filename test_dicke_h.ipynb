{
 "cells": [
  {
   "cell_type": "code",
   "execution_count": 1,
   "metadata": {},
   "outputs": [
    {
     "ename": "ModuleNotFoundError",
     "evalue": "No module named 'ops'",
     "output_type": "error",
     "traceback": [
      "\u001b[0;31m---------------------------------------------------------------------------\u001b[0m",
      "\u001b[0;31mModuleNotFoundError\u001b[0m                       Traceback (most recent call last)",
      "\u001b[0;32m<ipython-input-1-119dd2c61884>\u001b[0m in \u001b[0;36m<module>\u001b[0;34m()\u001b[0m\n\u001b[0;32m----> 1\u001b[0;31m \u001b[0;32mfrom\u001b[0m \u001b[0mdicke_h\u001b[0m \u001b[0;32mimport\u001b[0m \u001b[0;34m*\u001b[0m\u001b[0;34m\u001b[0m\u001b[0m\n\u001b[0m\u001b[1;32m      2\u001b[0m \u001b[0mN\u001b[0m \u001b[0;34m=\u001b[0m \u001b[0;36m1\u001b[0m \u001b[0;34m+\u001b[0m \u001b[0mint\u001b[0m\u001b[0;34m(\u001b[0m\u001b[0;36m10\u001b[0m \u001b[0;34m*\u001b[0m \u001b[0mnp\u001b[0m\u001b[0;34m.\u001b[0m\u001b[0mrandom\u001b[0m\u001b[0;34m.\u001b[0m\u001b[0mrand\u001b[0m\u001b[0;34m(\u001b[0m\u001b[0;34m)\u001b[0m\u001b[0;34m)\u001b[0m\u001b[0;34m\u001b[0m\u001b[0m\n\u001b[1;32m      3\u001b[0m \u001b[0;31m#N = 10\u001b[0m\u001b[0;34m\u001b[0m\u001b[0;34m\u001b[0m\u001b[0m\n\u001b[1;32m      4\u001b[0m \u001b[0mnds\u001b[0m \u001b[0;34m=\u001b[0m \u001b[0mnum_dicke_states\u001b[0m\u001b[0;34m(\u001b[0m\u001b[0mN\u001b[0m\u001b[0;34m)\u001b[0m\u001b[0;34m\u001b[0m\u001b[0m\n\u001b[1;32m      5\u001b[0m \u001b[0mgE\u001b[0m \u001b[0;34m=\u001b[0m \u001b[0mnp\u001b[0m\u001b[0;34m.\u001b[0m\u001b[0mrandom\u001b[0m\u001b[0;34m.\u001b[0m\u001b[0mrand\u001b[0m\u001b[0;34m(\u001b[0m\u001b[0;34m)\u001b[0m\u001b[0;34m\u001b[0m\u001b[0m\n",
      "\u001b[0;32m~/Dropbox/PHD/Permutations/pim_qutip_shahnawaz/shahnawaz_code/dicke_h.py\u001b[0m in \u001b[0;36m<module>\u001b[0;34m()\u001b[0m\n\u001b[1;32m     14\u001b[0m \u001b[0;32mfrom\u001b[0m \u001b[0mqutip\u001b[0m\u001b[0;34m.\u001b[0m\u001b[0msolver\u001b[0m \u001b[0;32mimport\u001b[0m \u001b[0mResult\u001b[0m\u001b[0;34m\u001b[0m\u001b[0m\n\u001b[1;32m     15\u001b[0m \u001b[0;34m\u001b[0m\u001b[0m\n\u001b[0;32m---> 16\u001b[0;31m \u001b[0;32mfrom\u001b[0m \u001b[0mops\u001b[0m \u001b[0;32mimport\u001b[0m \u001b[0;34m*\u001b[0m\u001b[0;34m\u001b[0m\u001b[0m\n\u001b[0m\u001b[1;32m     17\u001b[0m \u001b[0;34m\u001b[0m\u001b[0m\n\u001b[1;32m     18\u001b[0m \u001b[0;34m\u001b[0m\u001b[0m\n",
      "\u001b[0;31mModuleNotFoundError\u001b[0m: No module named 'ops'"
     ]
    }
   ],
   "source": [
    "from dicke_h import *\n",
    "N = 1 + int(10 * np.random.rand()) \n",
    "#N = 10\n",
    "nds = num_dicke_states(N)\n",
    "gE = np.random.rand()\n",
    "gD = np.random.rand()\n",
    "gP = np.random.rand()\n",
    "gCE = np.random.rand()\n",
    "gCD = np.random.rand()\n",
    "gCP = np.random.rand()\n",
    "print(N, gE, gD, gP, gCE, gCD, gCP)"
   ]
  },
  {
   "cell_type": "code",
   "execution_count": null,
   "metadata": {},
   "outputs": [],
   "source": [
    "jz = jz_op(N)\n",
    "jx = jx_op(N)\n",
    "w0 = 0.3\n",
    "om = 1\n",
    "h0 = w0 * jz \n",
    "h_int =  om * jx\n",
    "h = h0 #+ h_int"
   ]
  },
  {
   "cell_type": "code",
   "execution_count": null,
   "metadata": {},
   "outputs": [],
   "source": [
    "dicke = Dicke(N = N, hamiltonian = h, emission = gCE,loss = gE,dephasing = gD,pumping = gP,collective_pumping = gCP,collective_dephasing = gCD)\n",
    "#dicke = Dicke(N = N, hamiltonian = h0, emission = gCE)\n",
    "\n",
    "jmm = Pisolve(dicke)"
   ]
  },
  {
   "cell_type": "code",
   "execution_count": null,
   "metadata": {},
   "outputs": [],
   "source": [
    "j = int(np.random.rand()*N)*0.5\n",
    "m = max(j - 3, j)\n",
    "print(j,m)\n",
    "m1 = m\n",
    "\n",
    "t1 = jmm.tau1(j, m, m1)\n",
    "t2 = jmm.tau2(j, m, m1)\n",
    "t3 = jmm.tau3(j, m, m1)\n",
    "t4 = jmm.tau4(j, m, m1)\n",
    "t5 = jmm.tau5(j, m, m1)\n",
    "t6 = jmm.tau6(j, m, m1)\n",
    "t7 = jmm.tau7(j, m, m1)\n",
    "t8 = jmm.tau8(j, m, m1)\n",
    "t9 = jmm.tau9(j, m, m1)\n",
    "\n",
    "print(\"t1 = \", t1)\n",
    "print(\"t2 = \", t2)\n",
    "print(\"t3 = \", t3)\n",
    "print(\"t4 = \", t4)\n",
    "print(\"t5 = \", t5)\n",
    "print(\"t6 = \", t6)\n",
    "print(\"t7 = \", t7)\n",
    "print(\"t8 = \", t8)\n",
    "print(\"t9 = \", t9)\n",
    "# tt9 = np.testing.assert_approx_equal(float(t9),t9d,tol, verbose=True)"
   ]
  },
  {
   "cell_type": "code",
   "execution_count": null,
   "metadata": {
    "collapsed": true
   },
   "outputs": [],
   "source": [
    "excited_state = dicke.dicke(N/2,N/2)\n",
    "superradiant_state = dicke.dicke(N/2,j_min(N))\n",
    "subradiant_state = dicke.dicke(j_min(N),-j_min(N))\n",
    "ghz = dicke.ghz()\n",
    "rho0 = excited_state"
   ]
  },
  {
   "cell_type": "code",
   "execution_count": null,
   "metadata": {},
   "outputs": [],
   "source": [
    "t = np.linspace(0, 1, 100)\n",
    "result = dicke.solve(rho0,t)"
   ]
  },
  {
   "cell_type": "code",
   "execution_count": null,
   "metadata": {},
   "outputs": [],
   "source": [
    "result.states[-1][N,N]"
   ]
  },
  {
   "cell_type": "code",
   "execution_count": null,
   "metadata": {},
   "outputs": [],
   "source": [
    "Qobj(rho0)"
   ]
  },
  {
   "cell_type": "code",
   "execution_count": null,
   "metadata": {
    "collapsed": true
   },
   "outputs": [],
   "source": []
  }
 ],
 "metadata": {
  "kernelspec": {
   "display_name": "Python 3",
   "language": "python",
   "name": "python3"
  },
  "language_info": {
   "codemirror_mode": {
    "name": "ipython",
    "version": 3
   },
   "file_extension": ".py",
   "mimetype": "text/x-python",
   "name": "python",
   "nbconvert_exporter": "python",
   "pygments_lexer": "ipython3",
   "version": "3.6.1"
  }
 },
 "nbformat": 4,
 "nbformat_minor": 2
}
