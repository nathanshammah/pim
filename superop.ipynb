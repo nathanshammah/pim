{
 "cells": [
  {
   "cell_type": "code",
   "execution_count": 11,
   "metadata": {
    "collapsed": true
   },
   "outputs": [],
   "source": [
    "from dicke_h import *\n",
    "from qutip import *\n",
    "from matplotlib import pyplot as plt\n",
    "#from scipy.linalg import expm"
   ]
  },
  {
   "cell_type": "code",
   "execution_count": 12,
   "metadata": {
    "collapsed": true
   },
   "outputs": [],
   "source": [
    "#rho0 = dicke.ghz()\n",
    "#rho0 = dicke.dicke(N/2,N/2)\n",
    "#t = np.linspace(0, 10, 100)\n",
    "#result = dicke.solve(rho0, t)\n",
    "#rho_t = result.states"
   ]
  },
  {
   "cell_type": "code",
   "execution_count": 13,
   "metadata": {
    "collapsed": true
   },
   "outputs": [],
   "source": [
    "N = 10\n",
    "gE = 0 # loss\n",
    "gP = 1 # pumping\n",
    "gD = 0.1 # dephasing\n",
    "gCE = 1 # emission\n",
    "gCP = 1 # collective pumping\n",
    "gCD = 0.1 # collective dephasing\n",
    "dicke = Dicke(N = N, loss = gE, emission = gCE, pumping = gP, dephasing = gD, collective_pumping = gCP, collective_dephasing = gCD)\n",
    "psolv = Pisolve(dicke)\n",
    "jmm_dict = dicke.jmm1_dictionary();\n",
    "#print(jmm_dict)\n",
    "nds = num_dicke_states(N)\n",
    "jmm_flat = dicke.jmm1_flat();\n",
    "jmm_keys = [int(k) for k in jmm_flat.keys()]"
   ]
  },
  {
   "cell_type": "code",
   "execution_count": 14,
   "metadata": {
    "collapsed": true
   },
   "outputs": [],
   "source": [
    "#Lindblad superoperator\n",
    "ll = psolv.lindblad_sup()"
   ]
  },
  {
   "cell_type": "code",
   "execution_count": 15,
   "metadata": {},
   "outputs": [
    {
     "data": {
      "text/plain": [
       "1296"
      ]
     },
     "execution_count": 15,
     "metadata": {},
     "output_type": "execute_result"
    }
   ],
   "source": [
    "#linear size of the Lindblad superoperator square matrix\n",
    "nds**2"
   ]
  },
  {
   "cell_type": "code",
   "execution_count": 44,
   "metadata": {},
   "outputs": [
    {
     "name": "stdout",
     "output_type": "stream",
     "text": [
      "False\n",
      "True\n"
     ]
    }
   ],
   "source": [
    "td = np.log(N)/gCE\n",
    "aa = 5\n",
    "tmax = aa * td\n",
    "time_steps = 1000\n",
    "t = np.linspace(0, tmax, time_steps)\n",
    "h = dicke.hamiltonian\n",
    "lind = psolv.lindblad_sup()\n",
    "liouv = psolv.liouvillian()\n",
    "ih_sup = -1j*spre(h) + 1j*spost(h)\n",
    "liouv2 = ih_sup + lind\n",
    "rho0 = dicke.dicke(N/2,N/2)\n",
    "print(isdiagonal(liouv))\n",
    "print(liouv == liouv2)"
   ]
  },
  {
   "cell_type": "code",
   "execution_count": 32,
   "metadata": {},
   "outputs": [
    {
     "name": "stdout",
     "output_type": "stream",
     "text": [
      "True\n"
     ]
    }
   ],
   "source": [
    "#rho1 = steadystate(L)\n",
    "#print(expect(rho1,a.dag()*a))\n",
    "#steadystate(L)\n",
    "jz = jz_op(N)\n",
    "jp = jp_op(N)\n",
    "jm = jm_op(N)\n",
    "print(to_super(jz).dims == liouv.dims)\n",
    "#for i in range(0,liouv.shape[0]):\n",
    "#    print(\"liouv \", i, liouv[i])\n",
    "#    print(\"lindb \", i, lind[i])\n",
    "#    print(\"ihsup \", i, ih_sup[i])"
   ]
  },
  {
   "cell_type": "code",
   "execution_count": 33,
   "metadata": {
    "collapsed": true
   },
   "outputs": [],
   "source": [
    "result = mesolve(h, rho0, t, [liouv], e_ops = [jz, jp*jm])"
   ]
  },
  {
   "cell_type": "code",
   "execution_count": 34,
   "metadata": {
    "collapsed": true
   },
   "outputs": [],
   "source": [
    "jz_t = result.expect[0]\n",
    "jpjm_t = result.expect[1]"
   ]
  },
  {
   "cell_type": "code",
   "execution_count": 35,
   "metadata": {},
   "outputs": [
    {
     "data": {
      "image/png": "[encoded data removed]",
      "text/plain": [
       "<matplotlib.figure.Figure at 0x11f570518>"
      ]
     },
     "metadata": {},
     "output_type": "display_data"
    },
    {
     "data": {
      "image/png": "[encoded data removed]",
      "text/plain": [
       "<matplotlib.figure.Figure at 0x11ae807f0>"
      ]
     },
     "metadata": {},
     "output_type": "display_data"
    }
   ],
   "source": [
    "fig1 = plt.figure()\n",
    "plt.plot(t, jz_t)\n",
    "#plt.ylim([-1,1])\n",
    "plt.title('jz(t), total inversion')\n",
    "plt.xlabel('t')\n",
    "plt.show()\n",
    "plt.close()\n",
    "\n",
    "fig2 = plt.figure()\n",
    "plt.plot(t, jpjm_t)\n",
    "#plt.ylim([-1,1])\n",
    "plt.title('jpjm(t), light emission')\n",
    "plt.xlabel('t')\n",
    "plt.show()\n",
    "plt.close()"
   ]
  },
  {
   "cell_type": "code",
   "execution_count": 36,
   "metadata": {
    "collapsed": true
   },
   "outputs": [],
   "source": [
    "#Now use the Dicke fast solver instead of mesolve"
   ]
  },
  {
   "cell_type": "code",
   "execution_count": 40,
   "metadata": {},
   "outputs": [
    {
     "name": "stdout",
     "output_type": "stream",
     "text": [
      "hamiltonian and rho0 are diagonal: fast solver\n"
     ]
    }
   ],
   "source": [
    "rhov = Qobj(rho0.full().flatten(), dims = [[2],[2]])\n",
    "liouv.full() * rhov.full();\n",
    "result = dicke.solve(rho0, t)\n",
    "rho_t = result.states"
   ]
  },
  {
   "cell_type": "code",
   "execution_count": 41,
   "metadata": {
    "collapsed": true
   },
   "outputs": [],
   "source": [
    "jzt_2 = []\n",
    "jpjmt_2 = []\n",
    "for k in range (0, len(t)):\n",
    "    jzt_2.append((jz * rho_t[k]).tr())\n",
    "    jpjmt_2.append((jp*jm * rho_t[k]).tr())    "
   ]
  },
  {
   "cell_type": "code",
   "execution_count": 42,
   "metadata": {},
   "outputs": [
    {
     "data": {
      "image/png": "[encoded data removed]",
      "text/plain": [
       "<matplotlib.figure.Figure at 0x11ae4bc50>"
      ]
     },
     "metadata": {},
     "output_type": "display_data"
    },
    {
     "data": {
      "image/png": "[encoded data removed]",
      "text/plain": [
       "<matplotlib.figure.Figure at 0x11abafa90>"
      ]
     },
     "metadata": {},
     "output_type": "display_data"
    }
   ],
   "source": [
    "#Compare qutip.mesolve and dicke.solve variables\n",
    "fig1 = plt.figure()\n",
    "plt.plot(t, jzt_2, 'o', t, jz_t)\n",
    "#plt.ylim([-1,1])\n",
    "plt.title('jz(t), total inversion')\n",
    "plt.xlabel('t')\n",
    "plt.show()\n",
    "plt.close()\n",
    "\n",
    "fig2 = plt.figure()\n",
    "plt.plot(t, jpjmt_2, 'o',t, jpjm_t)\n",
    "#plt.ylim([-1,1])\n",
    "plt.title('jpjm(t), light emission')\n",
    "plt.xlabel('t')\n",
    "plt.show()\n",
    "plt.close()"
   ]
  },
  {
   "cell_type": "code",
   "execution_count": null,
   "metadata": {
    "collapsed": true
   },
   "outputs": [],
   "source": []
  }
 ],
 "metadata": {
  "kernelspec": {
   "display_name": "Python 3",
   "language": "python",
   "name": "python3"
  },
  "language_info": {
   "codemirror_mode": {
    "name": "ipython",
    "version": 3
   },
   "file_extension": ".py",
   "mimetype": "text/x-python",
   "name": "python",
   "nbconvert_exporter": "python",
   "pygments_lexer": "ipython3",
   "version": "3.6.1"
  }
 },
 "nbformat": 4,
 "nbformat_minor": 2
}
